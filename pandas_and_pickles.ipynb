{
  "nbformat": 4,
  "nbformat_minor": 0,
  "metadata": {
    "colab": {
      "provenance": []
    },
    "kernelspec": {
      "name": "python3",
      "display_name": "Python 3"
    },
    "language_info": {
      "name": "python"
    }
  },
  "cells": [
    {
      "cell_type": "code",
      "execution_count": 2,
      "metadata": {
        "id": "liChtk9efIGU"
      },
      "outputs": [],
      "source": [
        "import numpy as np\n",
        "import pandas as pd\n",
        "import matplotlib.pyplot as plt"
      ]
    },
    {
      "cell_type": "code",
      "source": [
        "## make a dictionary to define dataframe headers\n",
        "dataframe_headers = {'primary_mass': [],\n",
        "        'secondary_mass': [],\n",
        "        'time_array': [],\n",
        "        'place_holder_array_one':[],\n",
        "        'place_holder_array_two':[],\n",
        "        'place_holder_array_three':[],\n",
        "\n",
        "  }\n"
      ],
      "metadata": {
        "id": "1UOldzaSfY9o"
      },
      "execution_count": 3,
      "outputs": []
    },
    {
      "cell_type": "code",
      "source": [
        "#create dataframe using the headers from the dictionary\n",
        "\n",
        "dataframe = pd.DataFrame(dataframe_headers)\n",
        "\n",
        "\n",
        "#arrays of masses to iterate over\n",
        "primary_mass_array = [1.0, 2.0, 3.0, 4.0]\n",
        "second_masses_array = [0.1, 0.2, 0.3, 0.4]\n",
        "\n",
        "\n",
        "#just some random defs to create our arrays, all are of a diffrent length, and are numpy arrays\n",
        "#them being numpy arrays are important to ensure they are pickled correctly\n",
        "\n",
        "def make_time_array(primary_mass_val):\n",
        "     return np.arange(primary_mass_val, 100, 1)\n",
        "\n",
        "def make_place_holder_array_one(primary_mass_val, secondary_mass_val):\n",
        "    \n",
        "    place_holder_array_one = np.ones(100)*primary_mass_val*secondary_mass_val\n",
        "    return place_holder_array_one\n",
        "\n",
        "def make_place_holder_array_two(primary_mass_val, secondary_mass_val):\n",
        "    \n",
        "    place_holder_array_two = np.ones(200)*primary_mass_val*secondary_mass_val\n",
        "    return place_holder_array_two\n",
        "\n",
        "def make_place_holder_array_three(primary_mass_val, secondary_mass_val):\n",
        "    \n",
        "    place_holder_array_three = np.ones(300)*primary_mass_val*secondary_mass_val\n",
        "    return place_holder_array_three\n",
        "\n",
        "\n",
        "#loop through the primary masses and secondary masses\n",
        "for primary_mass in primary_mass_array:\n",
        "    for secondary_mass in second_masses_array:\n",
        "\n",
        "      #create your arrays\n",
        "      time_array = make_time_array(primary_mass)\n",
        "      place_holder_array_one = make_place_holder_array_one(primary_mass, secondary_mass)\n",
        "      place_holder_array_two = make_place_holder_array_two(primary_mass, secondary_mass)\n",
        "      place_holder_array_three = make_place_holder_array_three(primary_mass, secondary_mass)\n",
        "\n",
        "      #add created arrays and mass vals to a dictionary with the same headers as our orginal \n",
        "      dataframe_append_vals_and_arrays = {'primary_mass': primary_mass,\n",
        "        'secondary_mass': secondary_mass,\n",
        "        'time_array': time_array,\n",
        "        'place_holder_array_one': place_holder_array_one,\n",
        "        'place_holder_array_two':place_holder_array_two,\n",
        "        'place_holder_array_three':place_holder_array_three}\n",
        "\n",
        "      # append new dictionary to dataframe\n",
        "      dataframe = dataframe.append(dataframe_append_vals_and_arrays, ignore_index=True)\n",
        "      '''\n",
        "      Uncommnet code below to pickle the array. I pickle the appended dataframe every iteration, especially if they take a while to run.\n",
        "      It just makes sure your progress isn't lost if your code crashes or is booted off the nodes. If you only want to save the dataframe \n",
        "      after all elements have been added to the dataframe, pickle statment outside of the for loops. Also, pickle doesn't work super well in\n",
        "      Google Colab, so only uncomment on your own machine.\n",
        "      '''\n",
        "      #dataframe.to_pickle(\"test_pickle_file.pkl\")  \n",
        "\n",
        "#example of calling data from the dataframe using header name\n",
        "print(dataframe['place_holder_array_one'][0])\n",
        "plt.plot(dataframe['place_holder_array_one'][0])\n",
        "plt.show()\n",
        "\n",
        "#example of calling arrays based on primary mass value\n",
        "\n",
        "for i in np.arange(0, dataframe.shape[0], 1):\n",
        "    if dataframe['primary_mass'][i] == 1.0:\n",
        "       print(dataframe['time_array'][i])\n",
        "\n",
        "#to open pickled data frame\n",
        "#pickles_read_file = pd.read_pickle(\"test_pickle_file.pkl\")"
      ],
      "metadata": {
        "colab": {
          "base_uri": "https://localhost:8080/",
          "height": 786
        },
        "id": "75Znv5-1gCZX",
        "outputId": "41c7d209-1660-4e25-e05a-109e2609e921"
      },
      "execution_count": 17,
      "outputs": [
        {
          "output_type": "stream",
          "name": "stdout",
          "text": [
            "[0.1 0.1 0.1 0.1 0.1 0.1 0.1 0.1 0.1 0.1 0.1 0.1 0.1 0.1 0.1 0.1 0.1 0.1\n",
            " 0.1 0.1 0.1 0.1 0.1 0.1 0.1 0.1 0.1 0.1 0.1 0.1 0.1 0.1 0.1 0.1 0.1 0.1\n",
            " 0.1 0.1 0.1 0.1 0.1 0.1 0.1 0.1 0.1 0.1 0.1 0.1 0.1 0.1 0.1 0.1 0.1 0.1\n",
            " 0.1 0.1 0.1 0.1 0.1 0.1 0.1 0.1 0.1 0.1 0.1 0.1 0.1 0.1 0.1 0.1 0.1 0.1\n",
            " 0.1 0.1 0.1 0.1 0.1 0.1 0.1 0.1 0.1 0.1 0.1 0.1 0.1 0.1 0.1 0.1 0.1 0.1\n",
            " 0.1 0.1 0.1 0.1 0.1 0.1 0.1 0.1 0.1 0.1]\n"
          ]
        },
        {
          "output_type": "display_data",
          "data": {
            "text/plain": [
              "<Figure size 432x288 with 1 Axes>"
            ],
            "image/png": "[encoded data removed]"
          },
          "metadata": {
            "needs_background": "light"
          }
        },
        {
          "output_type": "stream",
          "name": "stdout",
          "text": [
            "[ 1.  2.  3.  4.  5.  6.  7.  8.  9. 10. 11. 12. 13. 14. 15. 16. 17. 18.\n",
            " 19. 20. 21. 22. 23. 24. 25. 26. 27. 28. 29. 30. 31. 32. 33. 34. 35. 36.\n",
            " 37. 38. 39. 40. 41. 42. 43. 44. 45. 46. 47. 48. 49. 50. 51. 52. 53. 54.\n",
            " 55. 56. 57. 58. 59. 60. 61. 62. 63. 64. 65. 66. 67. 68. 69. 70. 71. 72.\n",
            " 73. 74. 75. 76. 77. 78. 79. 80. 81. 82. 83. 84. 85. 86. 87. 88. 89. 90.\n",
            " 91. 92. 93. 94. 95. 96. 97. 98. 99.]\n",
            "[ 1.  2.  3.  4.  5.  6.  7.  8.  9. 10. 11. 12. 13. 14. 15. 16. 17. 18.\n",
            " 19. 20. 21. 22. 23. 24. 25. 26. 27. 28. 29. 30. 31. 32. 33. 34. 35. 36.\n",
            " 37. 38. 39. 40. 41. 42. 43. 44. 45. 46. 47. 48. 49. 50. 51. 52. 53. 54.\n",
            " 55. 56. 57. 58. 59. 60. 61. 62. 63. 64. 65. 66. 67. 68. 69. 70. 71. 72.\n",
            " 73. 74. 75. 76. 77. 78. 79. 80. 81. 82. 83. 84. 85. 86. 87. 88. 89. 90.\n",
            " 91. 92. 93. 94. 95. 96. 97. 98. 99.]\n",
            "[ 1.  2.  3.  4.  5.  6.  7.  8.  9. 10. 11. 12. 13. 14. 15. 16. 17. 18.\n",
            " 19. 20. 21. 22. 23. 24. 25. 26. 27. 28. 29. 30. 31. 32. 33. 34. 35. 36.\n",
            " 37. 38. 39. 40. 41. 42. 43. 44. 45. 46. 47. 48. 49. 50. 51. 52. 53. 54.\n",
            " 55. 56. 57. 58. 59. 60. 61. 62. 63. 64. 65. 66. 67. 68. 69. 70. 71. 72.\n",
            " 73. 74. 75. 76. 77. 78. 79. 80. 81. 82. 83. 84. 85. 86. 87. 88. 89. 90.\n",
            " 91. 92. 93. 94. 95. 96. 97. 98. 99.]\n",
            "[ 1.  2.  3.  4.  5.  6.  7.  8.  9. 10. 11. 12. 13. 14. 15. 16. 17. 18.\n",
            " 19. 20. 21. 22. 23. 24. 25. 26. 27. 28. 29. 30. 31. 32. 33. 34. 35. 36.\n",
            " 37. 38. 39. 40. 41. 42. 43. 44. 45. 46. 47. 48. 49. 50. 51. 52. 53. 54.\n",
            " 55. 56. 57. 58. 59. 60. 61. 62. 63. 64. 65. 66. 67. 68. 69. 70. 71. 72.\n",
            " 73. 74. 75. 76. 77. 78. 79. 80. 81. 82. 83. 84. 85. 86. 87. 88. 89. 90.\n",
            " 91. 92. 93. 94. 95. 96. 97. 98. 99.]\n"
          ]
        }
      ]
    }
  ]
}